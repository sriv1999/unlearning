{
 "cells": [
  {
   "cell_type": "code",
   "execution_count": 93,
   "id": "a3d82a4c",
   "metadata": {},
   "outputs": [],
   "source": [
    "import pandas as pd\n",
    "import numpy as np\n",
    "from zipfile import ZipFile\n",
    "import tensorflow as tf\n",
    "from tensorflow import keras\n",
    "from tensorflow.keras import layers\n",
    "from pathlib import Path\n",
    "import matplotlib.pyplot as plt"
   ]
  },
  {
   "cell_type": "markdown",
   "id": "4803ee0d",
   "metadata": {},
   "source": [
    "uncomment if you need to download the data (you shouldn't need to)"
   ]
  },
  {
   "cell_type": "code",
   "execution_count": 94,
   "id": "33fa9c45",
   "metadata": {},
   "outputs": [],
   "source": [
    "# !wget https://files.grouplens.org/datasets/movielens/ml-1m.zip\n",
    "# !unzip ml-1m.zip"
   ]
  },
  {
   "cell_type": "markdown",
   "id": "a2de0709",
   "metadata": {},
   "source": [
    "set up all of the data (see below)"
   ]
  },
  {
   "cell_type": "code",
   "execution_count": 6,
   "id": "cda73583",
   "metadata": {},
   "outputs": [],
   "source": [
    "base_path = './original_dataset/'\n",
    "users = 'users.dat'\n",
    "ratings = 'ratings.dat'\n",
    "movies = 'movies.dat'\n",
    "\n",
    "ratings_file = base_path + ratings\n",
    "ratings = pd.read_fwf(ratings_file,header=None)"
   ]
  },
  {
   "cell_type": "code",
   "execution_count": 7,
   "id": "675ecdad",
   "metadata": {},
   "outputs": [],
   "source": [
    "ratings = ratings[0].str.split('::',expand=True)\n",
    "ratings.columns=['UserID','MovieID','Rating','Timestamp']"
   ]
  },
  {
   "cell_type": "markdown",
   "id": "a0de1e34",
   "metadata": {},
   "source": [
    "format the data into integer encodings"
   ]
  },
  {
   "cell_type": "code",
   "execution_count": 8,
   "id": "f9d4f18c",
   "metadata": {},
   "outputs": [],
   "source": [
    "user_ids = ratings[\"UserID\"].unique().tolist()\n",
    "user2user_encoded = {x: i for i, x in enumerate(user_ids)}\n",
    "userencoded2user = {i: x for i, x in enumerate(user_ids)}"
   ]
  },
  {
   "cell_type": "code",
   "execution_count": 18,
   "id": "c9121701",
   "metadata": {},
   "outputs": [],
   "source": [
    "movie_ids = ratings[\"MovieID\"].unique().tolist()\n",
    "movie2movie_encoded = {x: i for i, x in enumerate(movie_ids)}\n",
    "movie_encoded2movie = {i: x for i, x in enumerate(movie_ids)}\n",
    "ratings[\"user\"] = ratings[\"UserID\"].map(user2user_encoded)\n",
    "ratings[\"movie\"] = ratings[\"MovieID\"].map(movie2movie_encoded)"
   ]
  },
  {
   "cell_type": "code",
   "execution_count": 70,
   "id": "6a18baa3",
   "metadata": {},
   "outputs": [],
   "source": [
    "import re\n",
    "\n",
    "def extract_movies(df, movie2movie_encoded):\n",
    "    movie_ids = []\n",
    "    for index, row in df.iterrows():\n",
    "        if re.search(\"(\\d{4})\", row[0]):\n",
    "            year = re.search(\"(\\d{4})\", row[0]).group(0)\n",
    "            id_ = row[0].split(\"::\")[0]\n",
    "            if int(year) < 1990 and id_ in movie2movie_encoded:\n",
    "                movie_ids.append(movie2movie_encoded[id_])\n",
    "    return movie_ids\n",
    "            \n",
    "            \n",
    "            \n",
    "def extract_users(df, user2user_encoded):\n",
    "    user_ids = []\n",
    "    for index, row in df.iterrows():\n",
    "        age = row[0].split(\"::\")[2]\n",
    "        id_ = row[0].split(\"::\")[0]\n",
    "        if int(age) >= 18 and int(age) <= 21:\n",
    "            user_ids.append(user2user_encoded[id_])\n",
    "    return user_ids"
   ]
  },
  {
   "cell_type": "code",
   "execution_count": 11,
   "id": "66c6b814",
   "metadata": {},
   "outputs": [],
   "source": [
    "user_file = base_path + users\n",
    "users_df = pd.read_fwf(user_file,header=None)"
   ]
  },
  {
   "cell_type": "code",
   "execution_count": 24,
   "id": "7fc1f67e",
   "metadata": {},
   "outputs": [],
   "source": [
    "users18_21 = extract_users(users_df, user2user_encoded)"
   ]
  },
  {
   "cell_type": "code",
   "execution_count": 25,
   "id": "a9269414",
   "metadata": {},
   "outputs": [
    {
     "data": {
      "text/plain": [
       "1103"
      ]
     },
     "execution_count": 25,
     "metadata": {},
     "output_type": "execute_result"
    }
   ],
   "source": [
    "len(users18_21)"
   ]
  },
  {
   "cell_type": "code",
   "execution_count": 21,
   "id": "a88b557f",
   "metadata": {},
   "outputs": [],
   "source": [
    "movie_file = base_path + movies\n",
    "movies_df = pd.read_fwf(movie_file,header=None)"
   ]
  },
  {
   "cell_type": "code",
   "execution_count": 50,
   "id": "c9a20b72",
   "metadata": {},
   "outputs": [],
   "source": [
    "movies_df[0].dropna(inplace=True)\n",
    "movies_df = movies_df.drop([1, 2], axis=1)"
   ]
  },
  {
   "cell_type": "code",
   "execution_count": 51,
   "id": "4a614d43",
   "metadata": {},
   "outputs": [
    {
     "data": {
      "text/html": [
       "<div>\n",
       "<style scoped>\n",
       "    .dataframe tbody tr th:only-of-type {\n",
       "        vertical-align: middle;\n",
       "    }\n",
       "\n",
       "    .dataframe tbody tr th {\n",
       "        vertical-align: top;\n",
       "    }\n",
       "\n",
       "    .dataframe thead th {\n",
       "        text-align: right;\n",
       "    }\n",
       "</style>\n",
       "<table border=\"1\" class=\"dataframe\">\n",
       "  <thead>\n",
       "    <tr style=\"text-align: right;\">\n",
       "      <th></th>\n",
       "      <th>0</th>\n",
       "    </tr>\n",
       "  </thead>\n",
       "  <tbody>\n",
       "    <tr>\n",
       "      <th>0</th>\n",
       "      <td>1::Toy Story (1995)::Animation|Children's|Comedy</td>\n",
       "    </tr>\n",
       "    <tr>\n",
       "      <th>1</th>\n",
       "      <td>2::Jumanji (1995)::Adventure|Children's|Fantasy</td>\n",
       "    </tr>\n",
       "    <tr>\n",
       "      <th>2</th>\n",
       "      <td>3::Grumpier Old Men (1995)::Comedy|Romance</td>\n",
       "    </tr>\n",
       "    <tr>\n",
       "      <th>3</th>\n",
       "      <td>4::Waiting to Exhale (1995)::Comedy|Drama</td>\n",
       "    </tr>\n",
       "    <tr>\n",
       "      <th>4</th>\n",
       "      <td>5::Father of the Bride Part II (1995)::Comedy</td>\n",
       "    </tr>\n",
       "    <tr>\n",
       "      <th>...</th>\n",
       "      <td>...</td>\n",
       "    </tr>\n",
       "    <tr>\n",
       "      <th>3878</th>\n",
       "      <td>3948::Meet the Parents (2000)::Comedy</td>\n",
       "    </tr>\n",
       "    <tr>\n",
       "      <th>3879</th>\n",
       "      <td>3949::Requiem for a Dream (2000)::Drama</td>\n",
       "    </tr>\n",
       "    <tr>\n",
       "      <th>3880</th>\n",
       "      <td>3950::Tigerland (2000)::Drama</td>\n",
       "    </tr>\n",
       "    <tr>\n",
       "      <th>3881</th>\n",
       "      <td>3951::Two Family House (2000)::Drama</td>\n",
       "    </tr>\n",
       "    <tr>\n",
       "      <th>3882</th>\n",
       "      <td>3952::Contender, The (2000)::Drama|Thriller</td>\n",
       "    </tr>\n",
       "  </tbody>\n",
       "</table>\n",
       "<p>3883 rows × 1 columns</p>\n",
       "</div>"
      ],
      "text/plain": [
       "                                                     0\n",
       "0     1::Toy Story (1995)::Animation|Children's|Comedy\n",
       "1      2::Jumanji (1995)::Adventure|Children's|Fantasy\n",
       "2           3::Grumpier Old Men (1995)::Comedy|Romance\n",
       "3            4::Waiting to Exhale (1995)::Comedy|Drama\n",
       "4        5::Father of the Bride Part II (1995)::Comedy\n",
       "...                                                ...\n",
       "3878             3948::Meet the Parents (2000)::Comedy\n",
       "3879           3949::Requiem for a Dream (2000)::Drama\n",
       "3880                     3950::Tigerland (2000)::Drama\n",
       "3881              3951::Two Family House (2000)::Drama\n",
       "3882       3952::Contender, The (2000)::Drama|Thriller\n",
       "\n",
       "[3883 rows x 1 columns]"
      ]
     },
     "execution_count": 51,
     "metadata": {},
     "output_type": "execute_result"
    }
   ],
   "source": [
    "movies_df"
   ]
  },
  {
   "cell_type": "code",
   "execution_count": 72,
   "id": "c14bb03c",
   "metadata": {},
   "outputs": [],
   "source": [
    "movies_1990 = extract_movies(movies_df, movie2movie_encoded)"
   ]
  },
  {
   "cell_type": "code",
   "execution_count": 78,
   "id": "dcb46617",
   "metadata": {},
   "outputs": [],
   "source": [
    "movies_1990.sort()"
   ]
  },
  {
   "cell_type": "code",
   "execution_count": 80,
   "id": "f424cde8",
   "metadata": {},
   "outputs": [
    {
     "data": {
      "text/plain": [
       "997"
      ]
     },
     "execution_count": 80,
     "metadata": {},
     "output_type": "execute_result"
    }
   ],
   "source": [
    "len(movies_1990)"
   ]
  },
  {
   "cell_type": "code",
   "execution_count": 81,
   "id": "a38e15f8",
   "metadata": {},
   "outputs": [],
   "source": [
    "with open('./movies_1990.txt','w') as f:\n",
    "    for m in movies_1990:\n",
    "        towrite = str(m) + \"\\n\"\n",
    "        f.write(str(towrite))"
   ]
  }
 ],
 "metadata": {
  "kernelspec": {
   "display_name": "Python 3",
   "language": "python",
   "name": "python3"
  },
  "language_info": {
   "codemirror_mode": {
    "name": "ipython",
    "version": 3
   },
   "file_extension": ".py",
   "mimetype": "text/x-python",
   "name": "python",
   "nbconvert_exporter": "python",
   "pygments_lexer": "ipython3",
   "version": "3.6.8"
  }
 },
 "nbformat": 4,
 "nbformat_minor": 5
}
