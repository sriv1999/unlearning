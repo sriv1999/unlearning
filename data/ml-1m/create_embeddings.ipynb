{
 "cells": [
  {
   "cell_type": "code",
   "execution_count": 7,
   "id": "acce63e1",
   "metadata": {
    "collapsed": true
   },
   "outputs": [
    {
     "name": "stdout",
     "output_type": "stream",
     "text": [
      "Collecting matplotlib\n",
      "  Using cached matplotlib-3.3.4-cp36-cp36m-manylinux1_x86_64.whl (11.5 MB)\n",
      "Requirement already satisfied: pyparsing!=2.0.4,!=2.1.2,!=2.1.6,>=2.0.3 in /fs/class-projects/spring2023/cmsc828a/cmsc828ag03/unlearning/env/lib/python3.6/site-packages (from matplotlib) (3.0.9)\n",
      "Requirement already satisfied: python-dateutil>=2.1 in /fs/class-projects/spring2023/cmsc828a/cmsc828ag03/unlearning/env/lib/python3.6/site-packages (from matplotlib) (2.8.2)\n",
      "Collecting cycler>=0.10\n",
      "  Using cached cycler-0.11.0-py3-none-any.whl (6.4 kB)\n",
      "Collecting pillow>=6.2.0\n",
      "  Using cached Pillow-8.4.0-cp36-cp36m-manylinux_2_17_x86_64.manylinux2014_x86_64.whl (3.1 MB)\n",
      "Requirement already satisfied: numpy>=1.15 in /fs/class-projects/spring2023/cmsc828a/cmsc828ag03/unlearning/env/lib/python3.6/site-packages (from matplotlib) (1.19.5)\n",
      "Collecting kiwisolver>=1.0.1\n",
      "  Using cached kiwisolver-1.3.1-cp36-cp36m-manylinux1_x86_64.whl (1.1 MB)\n",
      "Requirement already satisfied: six>=1.5 in /fs/class-projects/spring2023/cmsc828a/cmsc828ag03/unlearning/env/lib/python3.6/site-packages (from python-dateutil>=2.1->matplotlib) (1.16.0)\n",
      "Installing collected packages: pillow, kiwisolver, cycler, matplotlib\n",
      "Successfully installed cycler-0.11.0 kiwisolver-1.3.1 matplotlib-3.3.4 pillow-8.4.0\n"
     ]
    }
   ],
   "source": [
    "!pip install matplotlib"
   ]
  },
  {
   "cell_type": "code",
   "execution_count": 28,
   "id": "a3d82a4c",
   "metadata": {},
   "outputs": [],
   "source": [
    "import pandas as pd\n",
    "import numpy as np\n",
    "from zipfile import ZipFile\n",
    "import tensorflow as tf\n",
    "from tensorflow import keras\n",
    "from tensorflow.keras import layers\n",
    "from pathlib import Path\n",
    "import matplotlib.pyplot as plt"
   ]
  },
  {
   "cell_type": "markdown",
   "id": "64f5f8e1",
   "metadata": {},
   "source": [
    "uncomment if you need to download the data (you shouldn't need to)"
   ]
  },
  {
   "cell_type": "code",
   "execution_count": 9,
   "id": "33fa9c45",
   "metadata": {
    "collapsed": true
   },
   "outputs": [
    {
     "name": "stdout",
     "output_type": "stream",
     "text": [
      "--2023-05-12 16:11:19--  https://files.grouplens.org/datasets/movielens/ml-1m.zip\n",
      "Resolving files.grouplens.org (files.grouplens.org)... 128.101.65.152\n",
      "Connecting to files.grouplens.org (files.grouplens.org)|128.101.65.152|:443... connected.\n",
      "HTTP request sent, awaiting response... 200 OK\n",
      "Length: 5917549 (5.6M) [application/zip]\n",
      "Saving to: ‘ml-1m.zip’\n",
      "\n",
      "ml-1m.zip           100%[===================>]   5.64M  27.6MB/s    in 0.2s    \n",
      "\n",
      "2023-05-12 16:11:19 (27.6 MB/s) - ‘ml-1m.zip’ saved [5917549/5917549]\n",
      "\n"
     ]
    }
   ],
   "source": [
    "# !wget https://files.grouplens.org/datasets/movielens/ml-1m.zip\n",
    "# !unzip ml-1m.zip"
   ]
  },
  {
   "cell_type": "markdown",
   "id": "8e9dc07b",
   "metadata": {},
   "source": [
    "set up all of the data (see below)"
   ]
  },
  {
   "cell_type": "code",
   "execution_count": 67,
   "id": "cda73583",
   "metadata": {},
   "outputs": [],
   "source": [
    "base_path = './ml-1m/'\n",
    "users = 'users.dat'\n",
    "ratings = 'ratings.dat'\n",
    "movies = 'movies.dat'\n",
    "\n",
    "ratings_file = base_path + ratings\n",
    "ratings = pd.read_fwf(ratings_file,header=None)"
   ]
  },
  {
   "cell_type": "code",
   "execution_count": 68,
   "id": "675ecdad",
   "metadata": {},
   "outputs": [],
   "source": [
    "ratings = ratings[0].str.split('::',expand=True)\n",
    "ratings.columns=['UserID','MovieID','Rating','Timestamp']"
   ]
  },
  {
   "cell_type": "code",
   "execution_count": 69,
   "id": "b8136127",
   "metadata": {},
   "outputs": [
    {
     "data": {
      "text/html": [
       "<div>\n",
       "<style scoped>\n",
       "    .dataframe tbody tr th:only-of-type {\n",
       "        vertical-align: middle;\n",
       "    }\n",
       "\n",
       "    .dataframe tbody tr th {\n",
       "        vertical-align: top;\n",
       "    }\n",
       "\n",
       "    .dataframe thead th {\n",
       "        text-align: right;\n",
       "    }\n",
       "</style>\n",
       "<table border=\"1\" class=\"dataframe\">\n",
       "  <thead>\n",
       "    <tr style=\"text-align: right;\">\n",
       "      <th></th>\n",
       "      <th>UserID</th>\n",
       "      <th>MovieID</th>\n",
       "      <th>Rating</th>\n",
       "      <th>Timestamp</th>\n",
       "    </tr>\n",
       "  </thead>\n",
       "  <tbody>\n",
       "    <tr>\n",
       "      <th>0</th>\n",
       "      <td>1</td>\n",
       "      <td>1193</td>\n",
       "      <td>5</td>\n",
       "      <td>978300760</td>\n",
       "    </tr>\n",
       "    <tr>\n",
       "      <th>1</th>\n",
       "      <td>1</td>\n",
       "      <td>661</td>\n",
       "      <td>3</td>\n",
       "      <td>978302109</td>\n",
       "    </tr>\n",
       "    <tr>\n",
       "      <th>2</th>\n",
       "      <td>1</td>\n",
       "      <td>914</td>\n",
       "      <td>3</td>\n",
       "      <td>978301968</td>\n",
       "    </tr>\n",
       "    <tr>\n",
       "      <th>3</th>\n",
       "      <td>1</td>\n",
       "      <td>3408</td>\n",
       "      <td>4</td>\n",
       "      <td>978300275</td>\n",
       "    </tr>\n",
       "    <tr>\n",
       "      <th>4</th>\n",
       "      <td>1</td>\n",
       "      <td>2355</td>\n",
       "      <td>5</td>\n",
       "      <td>978824291</td>\n",
       "    </tr>\n",
       "    <tr>\n",
       "      <th>...</th>\n",
       "      <td>...</td>\n",
       "      <td>...</td>\n",
       "      <td>...</td>\n",
       "      <td>...</td>\n",
       "    </tr>\n",
       "    <tr>\n",
       "      <th>1000204</th>\n",
       "      <td>6040</td>\n",
       "      <td>1091</td>\n",
       "      <td>1</td>\n",
       "      <td>956716</td>\n",
       "    </tr>\n",
       "    <tr>\n",
       "      <th>1000205</th>\n",
       "      <td>6040</td>\n",
       "      <td>1094</td>\n",
       "      <td>5</td>\n",
       "      <td>956704</td>\n",
       "    </tr>\n",
       "    <tr>\n",
       "      <th>1000206</th>\n",
       "      <td>6040</td>\n",
       "      <td>562</td>\n",
       "      <td>5</td>\n",
       "      <td>9567047</td>\n",
       "    </tr>\n",
       "    <tr>\n",
       "      <th>1000207</th>\n",
       "      <td>6040</td>\n",
       "      <td>1096</td>\n",
       "      <td>4</td>\n",
       "      <td>956715</td>\n",
       "    </tr>\n",
       "    <tr>\n",
       "      <th>1000208</th>\n",
       "      <td>6040</td>\n",
       "      <td>1097</td>\n",
       "      <td>4</td>\n",
       "      <td>956715</td>\n",
       "    </tr>\n",
       "  </tbody>\n",
       "</table>\n",
       "<p>1000209 rows × 4 columns</p>\n",
       "</div>"
      ],
      "text/plain": [
       "        UserID MovieID Rating  Timestamp\n",
       "0            1    1193      5  978300760\n",
       "1            1     661      3  978302109\n",
       "2            1     914      3  978301968\n",
       "3            1    3408      4  978300275\n",
       "4            1    2355      5  978824291\n",
       "...        ...     ...    ...        ...\n",
       "1000204   6040    1091      1     956716\n",
       "1000205   6040    1094      5     956704\n",
       "1000206   6040     562      5    9567047\n",
       "1000207   6040    1096      4     956715\n",
       "1000208   6040    1097      4     956715\n",
       "\n",
       "[1000209 rows x 4 columns]"
      ]
     },
     "execution_count": 69,
     "metadata": {},
     "output_type": "execute_result"
    }
   ],
   "source": [
    "ratings"
   ]
  },
  {
   "cell_type": "markdown",
   "id": "572b07da",
   "metadata": {},
   "source": [
    "format the data into integer encodings"
   ]
  },
  {
   "cell_type": "code",
   "execution_count": 70,
   "id": "f9d4f18c",
   "metadata": {},
   "outputs": [],
   "source": [
    "user_ids = ratings[\"UserID\"].unique().tolist()\n",
    "user2user_encoded = {x: i for i, x in enumerate(user_ids)}\n",
    "userencoded2user = {i: x for i, x in enumerate(user_ids)}"
   ]
  },
  {
   "cell_type": "code",
   "execution_count": 71,
   "id": "c9121701",
   "metadata": {},
   "outputs": [],
   "source": [
    "movie_ids = ratings[\"MovieID\"].unique().tolist()\n",
    "movie2movie_encoded = {x: i for i, x in enumerate(movie_ids)}\n",
    "movie_encoded2movie = {i: x for i, x in enumerate(movie_ids)}\n",
    "ratings[\"user\"] = ratings[\"UserID\"].map(user2user_encoded)\n",
    "ratings[\"movie\"] = ratings[\"MovieID\"].map(movie2movie_encoded)"
   ]
  },
  {
   "cell_type": "code",
   "execution_count": 72,
   "id": "def51380",
   "metadata": {},
   "outputs": [
    {
     "name": "stdout",
     "output_type": "stream",
     "text": [
      "Number of users: 6040, Number of Movies: 3706, Min rating: 1.0, Max rating: 5.0\n"
     ]
    }
   ],
   "source": [
    "num_users = len(user2user_encoded)\n",
    "num_movies = len(movie_encoded2movie)\n",
    "ratings[\"Rating\"] = ratings[\"Rating\"].values.astype(np.float32)\n",
    "# min and max ratings will be used to normalize the ratings later\n",
    "min_rating = min(ratings[\"Rating\"])\n",
    "max_rating = max(ratings[\"Rating\"])\n",
    "\n",
    "print(\n",
    "    \"Number of users: {}, Number of Movies: {}, Min rating: {}, Max rating: {}\".format(\n",
    "        num_users, num_movies, min_rating, max_rating\n",
    "    )\n",
    ")"
   ]
  },
  {
   "cell_type": "code",
   "execution_count": 76,
   "id": "46703e31",
   "metadata": {},
   "outputs": [],
   "source": [
    "embedding_size = 64"
   ]
  },
  {
   "cell_type": "code",
   "execution_count": 83,
   "id": "e88c717a",
   "metadata": {},
   "outputs": [],
   "source": [
    "user_list = np.arange(num_users)\n",
    "movie_list = np.arange(num_movies)"
   ]
  },
  {
   "cell_type": "code",
   "execution_count": 90,
   "id": "ce65617c",
   "metadata": {},
   "outputs": [
    {
     "name": "stdout",
     "output_type": "stream",
     "text": [
      "(6040, 1, 64)\n"
     ]
    }
   ],
   "source": [
    "model = tf.keras.Sequential()\n",
    "model.add(tf.keras.layers.Embedding(num_users, embedding_size, embeddings_initializer=\"he_normal\",\n",
    "    embeddings_regularizer=keras.regularizers.l2(1e-6),))\n",
    "\n",
    "model.compile('rmsprop', 'mse')\n",
    "user_output_array = model.predict(user_list)\n",
    "print(user_output_array.shape)"
   ]
  },
  {
   "cell_type": "code",
   "execution_count": 91,
   "id": "ba56ae39",
   "metadata": {},
   "outputs": [
    {
     "data": {
      "text/plain": [
       "array([[-0.00201827,  0.00220001,  0.01370253,  0.00446202,  0.02656988,\n",
       "        -0.00189669, -0.00050636,  0.02338769, -0.01209566, -0.00760534,\n",
       "         0.03552527,  0.00922816,  0.01937199, -0.02198987, -0.0314478 ,\n",
       "        -0.00733486, -0.02317738,  0.00191434, -0.02590405,  0.0094655 ,\n",
       "        -0.00390186,  0.03269314,  0.0043453 ,  0.01694017,  0.00199145,\n",
       "         0.03558206, -0.00380436, -0.01307326, -0.02428009,  0.00618998,\n",
       "        -0.00656862,  0.00146781, -0.01443519, -0.03294548,  0.00474   ,\n",
       "        -0.01284825,  0.00871075,  0.02515688, -0.01708282,  0.02950909,\n",
       "         0.01293394,  0.02505983,  0.02693277,  0.01311709, -0.01407256,\n",
       "        -0.0381386 , -0.00298436, -0.01358492, -0.02323157,  0.02953929,\n",
       "        -0.00817657, -0.02075671,  0.00374398, -0.00760533,  0.01281405,\n",
       "        -0.01005399, -0.00862692,  0.01758536,  0.01023781,  0.0028743 ,\n",
       "         0.0304056 , -0.01757058,  0.01101611, -0.01850758]],\n",
       "      dtype=float32)"
      ]
     },
     "execution_count": 91,
     "metadata": {},
     "output_type": "execute_result"
    }
   ],
   "source": [
    "user_output_array[0]"
   ]
  },
  {
   "cell_type": "code",
   "execution_count": 92,
   "id": "60c14704",
   "metadata": {},
   "outputs": [
    {
     "name": "stdout",
     "output_type": "stream",
     "text": [
      "(3706, 1, 64)\n"
     ]
    }
   ],
   "source": [
    "movie_model = tf.keras.Sequential()\n",
    "movie_model.add(tf.keras.layers.Embedding(num_movies, embedding_size, embeddings_initializer=\"he_normal\",\n",
    "    embeddings_regularizer=keras.regularizers.l2(1e-6),))\n",
    "\n",
    "movie_model.compile('rmsprop', 'mse')\n",
    "movie_output_array = movie_model.predict(movie_list)\n",
    "print(movie_output_array.shape)"
   ]
  },
  {
   "cell_type": "code",
   "execution_count": 93,
   "id": "1eaaef3a",
   "metadata": {},
   "outputs": [
    {
     "data": {
      "text/plain": [
       "array([[-0.00164271,  0.03639622,  0.03193511,  0.00403752, -0.03799168,\n",
       "         0.02667775, -0.04245339, -0.00683967, -0.02962334, -0.03985883,\n",
       "         0.01220991,  0.01975949, -0.0270016 ,  0.01240345, -0.02689143,\n",
       "        -0.02647365, -0.00732935, -0.02047732, -0.00193214, -0.01083197,\n",
       "         0.00936381,  0.00692771,  0.05150883, -0.01427614, -0.01325178,\n",
       "        -0.02982868, -0.0055328 ,  0.05086528,  0.00240237,  0.01065781,\n",
       "        -0.02471501, -0.01326261, -0.04487265, -0.0120981 ,  0.03848959,\n",
       "         0.02643524,  0.01983233, -0.03209684, -0.01454915,  0.05056847,\n",
       "        -0.01472603,  0.03134091, -0.01475613,  0.04692023, -0.0288157 ,\n",
       "         0.01581022,  0.02604872,  0.01094291, -0.00632021,  0.00514529,\n",
       "         0.00335008, -0.01018547,  0.00810121, -0.00649632, -0.01765954,\n",
       "         0.00545621, -0.03073187, -0.02030215, -0.00044466, -0.02714276,\n",
       "         0.00035615,  0.00495957, -0.03475268,  0.01304822]],\n",
       "      dtype=float32)"
      ]
     },
     "execution_count": 93,
     "metadata": {},
     "output_type": "execute_result"
    }
   ],
   "source": [
    "movie_output_array[0]"
   ]
  }
 ],
 "metadata": {
  "kernelspec": {
   "display_name": "Python 3",
   "language": "python",
   "name": "python3"
  },
  "language_info": {
   "codemirror_mode": {
    "name": "ipython",
    "version": 3
   },
   "file_extension": ".py",
   "mimetype": "text/x-python",
   "name": "python",
   "nbconvert_exporter": "python",
   "pygments_lexer": "ipython3",
   "version": "3.6.8"
  }
 },
 "nbformat": 4,
 "nbformat_minor": 5
}
