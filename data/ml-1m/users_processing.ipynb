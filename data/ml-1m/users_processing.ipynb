{
 "cells": [
  {
   "cell_type": "code",
   "execution_count": 21,
   "id": "77351f47-dd9f-4055-aee0-a7b80cca0317",
   "metadata": {
    "tags": []
   },
   "outputs": [],
   "source": [
    "import pickle\n",
    "import pandas as pd"
   ]
  },
  {
   "cell_type": "code",
   "execution_count": 68,
   "id": "65d54de3-e024-4cc6-bc4a-643da79162b6",
   "metadata": {
    "tags": []
   },
   "outputs": [],
   "source": [
    "pretrain = pd.read_pickle('user_pretrain_2.pk')\n",
    "users_partition = pd.read_pickle('C_U_type-1_num-10.pk')"
   ]
  },
  {
   "cell_type": "code",
   "execution_count": 69,
   "id": "6425e5db-eb10-4a98-83a4-b374dfb8ea7f",
   "metadata": {
    "tags": []
   },
   "outputs": [
    {
     "data": {
      "text/plain": [
       "(6040, 64)"
      ]
     },
     "execution_count": 69,
     "metadata": {},
     "output_type": "execute_result"
    }
   ],
   "source": [
    "pretrain.shape"
   ]
  },
  {
   "cell_type": "code",
   "execution_count": 70,
   "id": "ef4fe8d0-0250-4539-9339-7b70a34478e0",
   "metadata": {
    "tags": []
   },
   "outputs": [
    {
     "data": {
      "text/plain": [
       "10"
      ]
     },
     "execution_count": 70,
     "metadata": {},
     "output_type": "execute_result"
    }
   ],
   "source": [
    "len(users_partition)"
   ]
  },
  {
   "cell_type": "markdown",
   "id": "15595877-b85f-484f-a58d-936d4b77d9ad",
   "metadata": {
    "tags": []
   },
   "source": [
    "I went to the Movielens page, downloaded the files and read the readme.\n",
    "\n",
    "\"These files contain 1,000,209 anonymous ratings of approximately 3,900 movies made by 6,040 MovieLens users who joined MovieLens in 2000.\"\n",
    "\n",
    "This tells me that pretrain is (people, y), but idk what y is. users_partition are split across 10 partitions, so it's not that."
   ]
  },
  {
   "cell_type": "code",
   "execution_count": 82,
   "id": "8a127012-8b0c-4123-b78c-1dd513050d98",
   "metadata": {
    "tags": []
   },
   "outputs": [],
   "source": [
    "users = pd.read_fwf('users.dat',header=None)"
   ]
  },
  {
   "cell_type": "code",
   "execution_count": 83,
   "id": "bca3d45e-2a80-4f9c-b790-cd251b7e2670",
   "metadata": {
    "tags": []
   },
   "outputs": [
    {
     "data": {
      "text/html": [
       "<div>\n",
       "<style scoped>\n",
       "    .dataframe tbody tr th:only-of-type {\n",
       "        vertical-align: middle;\n",
       "    }\n",
       "\n",
       "    .dataframe tbody tr th {\n",
       "        vertical-align: top;\n",
       "    }\n",
       "\n",
       "    .dataframe thead th {\n",
       "        text-align: right;\n",
       "    }\n",
       "</style>\n",
       "<table border=\"1\" class=\"dataframe\">\n",
       "  <thead>\n",
       "    <tr style=\"text-align: right;\">\n",
       "      <th></th>\n",
       "      <th>0</th>\n",
       "    </tr>\n",
       "  </thead>\n",
       "  <tbody>\n",
       "    <tr>\n",
       "      <th>0</th>\n",
       "      <td>1::F::1::10::48067</td>\n",
       "    </tr>\n",
       "    <tr>\n",
       "      <th>1</th>\n",
       "      <td>2::M::56::16::70072</td>\n",
       "    </tr>\n",
       "    <tr>\n",
       "      <th>2</th>\n",
       "      <td>3::M::25::15::55117</td>\n",
       "    </tr>\n",
       "    <tr>\n",
       "      <th>3</th>\n",
       "      <td>4::M::45::7::02460</td>\n",
       "    </tr>\n",
       "    <tr>\n",
       "      <th>4</th>\n",
       "      <td>5::M::25::20::55455</td>\n",
       "    </tr>\n",
       "  </tbody>\n",
       "</table>\n",
       "</div>"
      ],
      "text/plain": [
       "                     0\n",
       "0   1::F::1::10::48067\n",
       "1  2::M::56::16::70072\n",
       "2  3::M::25::15::55117\n",
       "3   4::M::45::7::02460\n",
       "4  5::M::25::20::55455"
      ]
     },
     "execution_count": 83,
     "metadata": {},
     "output_type": "execute_result"
    }
   ],
   "source": [
    "users.head()"
   ]
  },
  {
   "cell_type": "markdown",
   "id": "06b0c822-ef5c-48ec-9455-3ebefb45c078",
   "metadata": {},
   "source": [
    "Readme tells me that the file is in this format= UserID::Gender::Age::Occupation::Zip-code"
   ]
  },
  {
   "cell_type": "code",
   "execution_count": 84,
   "id": "7475a88d-d633-4f52-9eab-d89801ead6d1",
   "metadata": {
    "tags": []
   },
   "outputs": [],
   "source": [
    "users = users[0].str.split('::',expand=True)\n",
    "users.columns=['UserID','Gender','Age','Occupation','Zipcode']"
   ]
  },
  {
   "cell_type": "code",
   "execution_count": 89,
   "id": "c72cb3c6-bc74-48b6-99f3-edf211c57e4f",
   "metadata": {
    "tags": []
   },
   "outputs": [],
   "source": [
    "# users.set_index('UserID').to_csv('users.csv', index=None) # Don't use this because they switched it to 0 indexing\n",
    "users[['Gender','Age','Occupation','Zipcode']].to_csv('users.csv')"
   ]
  },
  {
   "cell_type": "markdown",
   "id": "ceba92ce-0836-4040-8926-c2b0449ed5bf",
   "metadata": {},
   "source": [
    "We want a dataframe that is users X partitions. Let's create one for each of the files partitioned by users."
   ]
  },
  {
   "cell_type": "code",
   "execution_count": 142,
   "id": "47738be5-057a-4309-aba3-1578b4991eb5",
   "metadata": {
    "tags": []
   },
   "outputs": [],
   "source": [
    "user_files = ['C_U_type-1_num-10.pk','C_U_type-2_num-10.pk','C_U_type-3_num-10.pk']\n",
    "\n",
    "for file_index, file in enumerate(user_files):\n",
    "    # Open the paritioned user file\n",
    "    users_partition = pd.read_pickle(file)\n",
    "\n",
    "    # Make a dummy dataframe rows=persons, cols=userID + partitions\n",
    "    users_type = pd.DataFrame(list(range(0,6040)),columns=['UserID',])\n",
    "    cols = ['p0','p1','p2','p3','p4','p5','p6','p7','p8','p9']\n",
    "    for col in cols:\n",
    "        users_type[col] = 0\n",
    "    \n",
    "    # Populate cols with 1 if userID is in that partition\n",
    "    for idx, partition in enumerate(users_partition):\n",
    "        users_type.iloc[partition, idx+1] = 1\n",
    "        \n",
    "    out_index = file_index +1\n",
    "    users_type.to_csv(f'C_U_type-{out_index}_num-10.csv',index=None)"
   ]
  },
  {
   "cell_type": "code",
   "execution_count": null,
   "id": "bed27c66-44c3-4546-bac5-a649b9a68427",
   "metadata": {
    "tags": []
   },
   "outputs": [],
   "source": []
  },
  {
   "cell_type": "code",
   "execution_count": 138,
   "id": "13a93f03-80d4-4329-a315-a87674a1981b",
   "metadata": {
    "tags": []
   },
   "outputs": [],
   "source": []
  },
  {
   "cell_type": "code",
   "execution_count": null,
   "id": "7e5260b8-b5b2-4428-8cff-e4d1352398e7",
   "metadata": {
    "tags": []
   },
   "outputs": [],
   "source": []
  },
  {
   "cell_type": "code",
   "execution_count": null,
   "id": "126882bf-eae4-470a-9bde-39ba9cf1cd7e",
   "metadata": {},
   "outputs": [],
   "source": []
  }
 ],
 "metadata": {
  "kernelspec": {
   "display_name": "Python 3 (ipykernel)",
   "language": "python",
   "name": "python3"
  },
  "language_info": {
   "codemirror_mode": {
    "name": "ipython",
    "version": 3
   },
   "file_extension": ".py",
   "mimetype": "text/x-python",
   "name": "python",
   "nbconvert_exporter": "python",
   "pygments_lexer": "ipython3",
   "version": "3.10.10"
  }
 },
 "nbformat": 4,
 "nbformat_minor": 5
}
